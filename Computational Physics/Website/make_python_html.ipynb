{
 "cells": [
  {
   "cell_type": "code",
   "execution_count": 17,
   "metadata": {},
   "outputs": [
    {
     "name": "stdout",
     "output_type": "stream",
     "text": [
      "HTML file generated successfully.\n"
     ]
    }
   ],
   "source": [
    "from jinja2 import Environment, FileSystemLoader\n",
    "from pygments import highlight\n",
    "from pygments.lexers import PythonLexer\n",
    "from pygments.formatters import HtmlFormatter\n",
    "\n",
    "def read_python_file(file_path, start_line = 1,  end_line = -1):\n",
    "    \"\"\"\n",
    "    Reads specific lines from a Python file.\n",
    "    \n",
    "    :param file_path: Path to the Python file\n",
    "    :param start_line: First line to read (1-indexed)\n",
    "    :param end_line: Last line to read (1-indexed)\n",
    "    :return: String containing the selected lines\n",
    "    \"\"\"\n",
    "    with open(file_path, 'r') as file:\n",
    "        lines = file.readlines()\n",
    "        return ''.join(lines[start_line - 1:end_line])  # Adjust for 0-index\n",
    "\n",
    "# Define paths and line range\n",
    "file_path = '../Neural Network.py'  # The Python file to read\n",
    "\n",
    "# \n",
    "# Read the selected lines\n",
    "python_code = read_python_file(file_path)\n",
    "\n",
    "# Highlight the selected Python code\n",
    "formatter = HtmlFormatter(style=\"default\", nowrap=True)\n",
    "highlighted_code = highlight(python_code, PythonLexer(), formatter)\n",
    "\n",
    "# Set up Jinja2 environment\n",
    "env = Environment(loader=FileSystemLoader('.'))\n",
    "template = env.get_template('template.html')  # Template file as before\n",
    "\n",
    "# Render the HTML with the highlighted code\n",
    "html_output = template.render(highlighted_code=highlighted_code)\n",
    "\n",
    "# Save the result to an HTML file\n",
    "with open('output.html', 'w') as f:\n",
    "    f.write(html_output)\n",
    "\n",
    "print(\"HTML file generated successfully.\")\n"
   ]
  },
  {
   "cell_type": "code",
   "execution_count": null,
   "metadata": {},
   "outputs": [],
   "source": []
  }
 ],
 "metadata": {
  "kernelspec": {
   "display_name": "WebDev",
   "language": "python",
   "name": "python3"
  },
  "language_info": {
   "codemirror_mode": {
    "name": "ipython",
    "version": 3
   },
   "file_extension": ".py",
   "mimetype": "text/x-python",
   "name": "python",
   "nbconvert_exporter": "python",
   "pygments_lexer": "ipython3",
   "version": "3.12.7"
  }
 },
 "nbformat": 4,
 "nbformat_minor": 2
}
