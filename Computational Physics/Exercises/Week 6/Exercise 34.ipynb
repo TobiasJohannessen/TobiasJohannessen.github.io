{
 "cells": [
  {
   "cell_type": "code",
   "execution_count": 6,
   "metadata": {},
   "outputs": [
    {
     "name": "stderr",
     "output_type": "stream",
     "text": [
      "ERROR: Could not find a version that satisfies the requirement import_custom (from versions: none)\n",
      "ERROR: No matching distribution found for import_custom\n"
     ]
    }
   ],
   "source": []
  },
  {
   "cell_type": "code",
   "execution_count": 2,
   "metadata": {},
   "outputs": [
    {
     "name": "stdout",
     "output_type": "stream",
     "text": [
      "All modules imported succesfully.\n"
     ]
    },
    {
     "ename": "NameError",
     "evalue": "name 'Potentials' is not defined",
     "output_type": "error",
     "traceback": [
      "\u001b[1;31m---------------------------------------------------------------------------\u001b[0m",
      "\u001b[1;31mNameError\u001b[0m                                 Traceback (most recent call last)",
      "Cell \u001b[1;32mIn[2], line 26\u001b[0m\n\u001b[0;32m     19\u001b[0m     \u001b[38;5;28;01mreturn\u001b[39;00m\n\u001b[0;32m     21\u001b[0m import_custom2([\u001b[38;5;124m'\u001b[39m\u001b[38;5;124mRegression\u001b[39m\u001b[38;5;124m'\u001b[39m, \u001b[38;5;124m'\u001b[39m\u001b[38;5;124mPlotTools\u001b[39m\u001b[38;5;124m'\u001b[39m, \u001b[38;5;124m'\u001b[39m\u001b[38;5;124mClustering\u001b[39m\u001b[38;5;124m'\u001b[39m, \n\u001b[0;32m     22\u001b[0m                     \u001b[38;5;124m'\u001b[39m\u001b[38;5;124mMolecularDynamics\u001b[39m\u001b[38;5;124m'\u001b[39m, \u001b[38;5;124m'\u001b[39m\u001b[38;5;124mPotentials\u001b[39m\u001b[38;5;124m'\u001b[39m], relative_path\u001b[38;5;241m=\u001b[39m\u001b[38;5;124m'\u001b[39m\u001b[38;5;124m../Classes\u001b[39m\u001b[38;5;124m'\u001b[39m)\n\u001b[1;32m---> 26\u001b[0m Potentials\n",
      "\u001b[1;31mNameError\u001b[0m: name 'Potentials' is not defined"
     ]
    }
   ],
   "source": [
    "import sys\n",
    "from importlib import reload\n",
    "\n",
    "\n",
    "\n",
    "\n"
   ]
  },
  {
   "cell_type": "code",
   "execution_count": 3,
   "metadata": {},
   "outputs": [
    {
     "ename": "NameError",
     "evalue": "name 'LennardJones' is not defined",
     "output_type": "error",
     "traceback": [
      "\u001b[1;31m---------------------------------------------------------------------------\u001b[0m",
      "\u001b[1;31mNameError\u001b[0m                                 Traceback (most recent call last)",
      "Cell \u001b[1;32mIn[3], line 1\u001b[0m\n\u001b[1;32m----> 1\u001b[0m LJ \u001b[38;5;241m=\u001b[39m LennardJones\n",
      "\u001b[1;31mNameError\u001b[0m: name 'LennardJones' is not defined"
     ]
    }
   ],
   "source": []
  },
  {
   "cell_type": "code",
   "execution_count": 4,
   "metadata": {},
   "outputs": [
    {
     "ename": "NameError",
     "evalue": "name 'AtomicCluster' is not defined",
     "output_type": "error",
     "traceback": [
      "\u001b[1;31m---------------------------------------------------------------------------\u001b[0m",
      "\u001b[1;31mNameError\u001b[0m                                 Traceback (most recent call last)",
      "Cell \u001b[1;32mIn[4], line 2\u001b[0m\n\u001b[0;32m      1\u001b[0m positions \u001b[38;5;241m=\u001b[39m np\u001b[38;5;241m.\u001b[39marray([[\u001b[38;5;241m-\u001b[39m\u001b[38;5;241m1\u001b[39m, \u001b[38;5;241m1\u001b[39m], [\u001b[38;5;241m0\u001b[39m, \u001b[38;5;241m1.3\u001b[39m], [\u001b[38;5;241m1\u001b[39m, \u001b[38;5;241m1\u001b[39m], [\u001b[38;5;241m1\u001b[39m, \u001b[38;5;241m-\u001b[39m\u001b[38;5;241m1\u001b[39m], [\u001b[38;5;241m0\u001b[39m, \u001b[38;5;241m-\u001b[39m\u001b[38;5;241m1.3\u001b[39m], [\u001b[38;5;241m-\u001b[39m\u001b[38;5;241m1\u001b[39m, \u001b[38;5;241m-\u001b[39m\u001b[38;5;241m1\u001b[39m], [\u001b[38;5;241m-\u001b[39m\u001b[38;5;241m1.5\u001b[39m, \u001b[38;5;241m0\u001b[39m]])\n\u001b[1;32m----> 2\u001b[0m Cluster \u001b[38;5;241m=\u001b[39m AtomicCluster(calc\u001b[38;5;241m=\u001b[39m LennardJones(), pos \u001b[38;5;241m=\u001b[39m positions)\n\u001b[0;32m      4\u001b[0m fig, ax \u001b[38;5;241m=\u001b[39m plt\u001b[38;5;241m.\u001b[39msubplots()\n\u001b[0;32m      6\u001b[0m ax\u001b[38;5;241m.\u001b[39mscatter(positions[:, \u001b[38;5;241m0\u001b[39m], positions[:, \u001b[38;5;241m1\u001b[39m], s \u001b[38;5;241m=\u001b[39m \u001b[38;5;241m500\u001b[39m)\n",
      "\u001b[1;31mNameError\u001b[0m: name 'AtomicCluster' is not defined"
     ]
    }
   ],
   "source": [
    "positions = np.array([[-1, 1], [0, 1.3], [1, 1], [1, -1], [0, -1.3], [-1, -1], [-1.5, 0]])\n",
    "Cluster = AtomicCluster(calc= LennardJones(), pos = positions)\n",
    "\n",
    "fig, ax = plt.subplots()\n",
    "\n",
    "ax.scatter(positions[:, 0], positions[:, 1], s = 500)\n",
    "ax.set_xlim(-2, 2)\n",
    "ax.set_ylim(-2, 2)"
   ]
  }
 ],
 "metadata": {
  "kernelspec": {
   "display_name": "py312",
   "language": "python",
   "name": "python3"
  },
  "language_info": {
   "codemirror_mode": {
    "name": "ipython",
    "version": 3
   },
   "file_extension": ".py",
   "mimetype": "text/x-python",
   "name": "python",
   "nbconvert_exporter": "python",
   "pygments_lexer": "ipython3",
   "version": "3.12.1"
  }
 },
 "nbformat": 4,
 "nbformat_minor": 2
}
