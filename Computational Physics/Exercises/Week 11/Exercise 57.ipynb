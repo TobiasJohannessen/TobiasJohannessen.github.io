{
 "cells": [
  {
   "cell_type": "code",
   "execution_count": 1,
   "metadata": {},
   "outputs": [],
   "source": [
    "import torch\n",
    "from cpclasses import *"
   ]
  },
  {
   "cell_type": "code",
   "execution_count": 2,
   "metadata": {},
   "outputs": [],
   "source": [
    "data_flat = np.loadtxt('labeled_clusters_1000.txt')\n",
    "positions_from_file = data_flat[:,:24].reshape(-1,12,2)\n",
    "energies_from_file = data_flat[:,24:25].reshape(-1)\n",
    "labels_from_file = data_flat[:,-1:].reshape(-1).astype('int')"
   ]
  },
  {
   "cell_type": "code",
   "execution_count": 3,
   "metadata": {},
   "outputs": [
    {
     "data": {
      "text/plain": [
       "(array([[[4.721805, 4.275757],\n",
       "         [4.99196 , 2.669204],\n",
       "         [4.631578, 5.889142],\n",
       "         [4.373125, 7.554287],\n",
       "         [5.004835, 6.797513],\n",
       "         [5.602687, 6.016059],\n",
       "         [6.18045 , 5.206921],\n",
       "         [5.71127 , 4.300034],\n",
       "         [5.206776, 5.119051],\n",
       "         [6.353148, 3.567599],\n",
       "         [4.010138, 6.635914],\n",
       "         [3.676022, 5.698195]]]),\n",
       " array([-27.092445]),\n",
       " array([5]))"
      ]
     },
     "execution_count": 3,
     "metadata": {},
     "output_type": "execute_result"
    }
   ],
   "source": [
    "positions_from_file[:1],energies_from_file[:1],labels_from_file[:1]"
   ]
  },
  {
   "cell_type": "code",
   "execution_count": 4,
   "metadata": {},
   "outputs": [
    {
     "name": "stdout",
     "output_type": "stream",
     "text": [
      "0 48\n",
      "1 69\n",
      "2 127\n",
      "3 123\n",
      "4 158\n",
      "5 108\n",
      "6 103\n",
      "7 79\n",
      "8 59\n",
      "9 126\n"
     ]
    }
   ],
   "source": [
    "for label in np.unique(labels_from_file):\n",
    "    print(label, len(labels_from_file[labels_from_file==label]))\n"
   ]
  },
  {
   "cell_type": "code",
   "execution_count": 12,
   "metadata": {},
   "outputs": [
    {
     "data": {
      "text/plain": [
       "[Text(0.5, 0, 'Energy'),\n",
       " Text(0, 0.5, 'Abundance'),\n",
       " Text(0.5, 1.0, 'Energy distribution of clusters')]"
      ]
     },
     "execution_count": 12,
     "metadata": {},
     "output_type": "execute_result"
    },
    {
     "data": {
      "image/png": "[encoded data removed]",
      "text/plain": [
       "<Figure size 500x500 with 1 Axes>"
      ]
     },
     "metadata": {},
     "output_type": "display_data"
    }
   ],
   "source": [
    "fig, ax = plt.subplots(1,1,figsize=(5,5))\n",
    "\n",
    "bins = range(35)\n",
    "\n",
    "for label in np.unique(labels_from_file):\n",
    "    bins = range(-35,-10)\n",
    "    bars, _ = np.histogram(energies_from_file[labels_from_file==label],bins=bins)\n",
    "    bottom = (9-label)*5\n",
    "    ax.bar(np.array(list(bins))[:-1]+0.5,bars,bottom=bottom,alpha=0.8,label=f'{label}')\n",
    "\n",
    "ax.legend(title='Cluster label')\n",
    "ax.set(xlabel='Energy',ylabel='Abundance', title='Energy distribution of clusters')\n",
    "\n"
   ]
  },
  {
   "cell_type": "code",
   "execution_count": 40,
   "metadata": {},
   "outputs": [],
   "source": [
    "class LJGSystem():\n",
    "\n",
    "    def __init__(self,positions,energies,labels):\n",
    "        self.positions = positions\n",
    "        self.energies = energies\n",
    "        self.labels = labels\n",
    "\n",
    "#\n",
    "    def moments(self):\n",
    "        beta = 3    \n",
    "        cm = np.mean(self.positions, axis=0)\n",
    "        mu2 = beta**(-1) * np.sum((self.positions - cm)**2)\n",
    "        mu4 = beta**(-2) * np.sum(((self.positions - cm)**2)**2)\n",
    "        mu6 = beta**(-3) * np.sum(((self.positions - cm)**2)**3)\n",
    "        mu8 = beta**(-4) * np.sum(((self.positions - cm)**2)**4)\n",
    "        \n",
    "\n",
    "        return np.array([mu2, mu4, mu6, mu8]).flatten()\n",
    "\n",
    "\n",
    "    def draw(self, ax):\n",
    "\n",
    "        ax.scatter(self.positions[:,0],self.positions[:,1])\n",
    "        "
   ]
  },
  {
   "cell_type": "code",
   "execution_count": 42,
   "metadata": {},
   "outputs": [
    {
     "name": "stdout",
     "output_type": "stream",
     "text": [
      "[[5.621346 2.285205]\n",
      " [4.700431 6.660315]\n",
      " [3.859736 6.132318]\n",
      " [4.764785 3.736503]\n",
      " [4.741416 5.677128]\n",
      " [5.623889 5.219098]\n",
      " [5.576166 6.198768]\n",
      " [5.640562 4.241399]\n",
      " [5.650794 3.269248]\n",
      " [3.919137 5.156834]\n",
      " [3.191191 4.507414]\n",
      " [4.785578 4.710761]]\n",
      "-28.917112\n",
      "4\n"
     ]
    }
   ],
   "source": [
    "i = 3\n",
    "print(positions_from_file[i])\n",
    "print(energies_from_file[i])\n",
    "print(labels_from_file[i])\n",
    "ljg = LJGSystem(positions_from_file[i],energies_from_file[i],labels_from_file[i])\n"
   ]
  },
  {
   "cell_type": "code",
   "execution_count": null,
   "metadata": {},
   "outputs": [],
   "source": [
    "\n"
   ]
  },
  {
   "cell_type": "code",
   "execution_count": null,
   "metadata": {},
   "outputs": [],
   "source": []
  }
 ],
 "metadata": {
  "kernelspec": {
   "display_name": "py312",
   "language": "python",
   "name": "python3"
  },
  "language_info": {
   "codemirror_mode": {
    "name": "ipython",
    "version": 3
   },
   "file_extension": ".py",
   "mimetype": "text/x-python",
   "name": "python",
   "nbconvert_exporter": "python",
   "pygments_lexer": "ipython3",
   "version": "3.12.1"
  }
 },
 "nbformat": 4,
 "nbformat_minor": 2
}
