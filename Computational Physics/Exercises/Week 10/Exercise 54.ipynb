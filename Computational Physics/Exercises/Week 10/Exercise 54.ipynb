{
 "cells": [
  {
   "cell_type": "code",
   "execution_count": 1,
   "metadata": {},
   "outputs": [],
   "source": [
    "from cpclasses import *\n",
    "import torch\n",
    "\n"
   ]
  },
  {
   "cell_type": "code",
   "execution_count": 2,
   "metadata": {},
   "outputs": [
    {
     "name": "stdout",
     "output_type": "stream",
     "text": [
      "[  5.055454   4.291927   4.100563   2.266553   4.693256   5.853959\n",
      "   4.157208   7.436068   4.908682   6.813956   5.612765   6.151167\n",
      "   6.329216   5.468951   6.029016   4.512863   5.38903    5.203717\n",
      "   6.68344    3.807901   3.956929   6.478274   3.789781   5.511435\n",
      " -34.298077 -32.365418 -33.880081]\n",
      "[array([[5.055454, 4.291927],\n",
      "       [4.100563, 2.266553],\n",
      "       [4.693256, 5.853959],\n",
      "       [4.157208, 7.436068],\n",
      "       [4.908682, 6.813956],\n",
      "       [5.612765, 6.151167],\n",
      "       [6.329216, 5.468951],\n",
      "       [6.029016, 4.512863],\n",
      "       [5.38903 , 5.203717],\n",
      "       [6.68344 , 3.807901],\n",
      "       [3.956929, 6.478274],\n",
      "       [3.789781, 5.511435]]), -34.298077, -32.365418, -33.880081]\n"
     ]
    }
   ],
   "source": [
    "data_flat = np.loadtxt('pos_e1_e2_e3_1000.txt')\n",
    "print(data_flat[0])\n",
    "\n",
    "data_in_file = [[d[:24].reshape(12,2),d[24],d[25],d[26]] for d in data_flat]\n",
    "print(data_in_file[0])"
   ]
  },
  {
   "cell_type": "code",
   "execution_count": 3,
   "metadata": {},
   "outputs": [],
   "source": [
    "n_neurons = 8\n",
    "n_hidden = 3\n",
    "\n",
    "activation = torch.nn.ReLU()\n",
    "\n",
    "layers = []\n",
    "layers.append(torch.nn.Linear(1, n_neurons))\n",
    "layers.append(activation)\n",
    "for i in range(n_hidden):\n",
    "    layers.append(torch.nn.Linear(n_neurons, n_neurons))\n",
    "    layers.append(activation)\n",
    "\n",
    "layers.append(torch.nn.Linear(n_neurons, 1))\n",
    "model = torch.nn.Sequential(*layers)"
   ]
  },
  {
   "cell_type": "code",
   "execution_count": 35,
   "metadata": {},
   "outputs": [
    {
     "name": "stdout",
     "output_type": "stream",
     "text": [
      "tensor([-0.3727, -0.3498, -0.3269, -0.3040, -0.2811, -0.2690, -0.2607, -0.2541,\n",
      "        -0.2585, -0.2628], grad_fn=<ViewBackward0>)\n",
      "tensor([-0.4380, -0.4417, -0.4448, -0.4476, -0.4505, -0.4534, -0.4570, -0.4606,\n",
      "        -0.4611, -0.4616], grad_fn=<ViewBackward0>)\n",
      "tensor([-0.1705, -0.1731, -0.1758, -0.1813, -0.1880, -0.1947, -0.2015, -0.2082,\n",
      "        -0.2149, -0.2218], grad_fn=<ViewBackward0>)\n"
     ]
    }
   ],
   "source": [
    "CLN = CustomLinearNetwork(1,8, 'relu')\n",
    "\n",
    "\n",
    "CN2 = CustomNetwork2()\n",
    "\n",
    "NN = torch.nn.Sequential(\n",
    "    torch.nn.Linear(1, 8),\n",
    "    torch.nn.ReLU(),\n",
    "    torch.nn.Linear(8, 8),\n",
    "    torch.nn.ReLU(),\n",
    "    torch.nn.Linear(8, 1)\n",
    ")\n",
    "\n",
    "\n",
    "xs = torch.linspace(0,1,10).view(-1,1)\n",
    "\n",
    "print(CLN(xs))\n",
    "print(CN2(xs))\n",
    "print(NN(xs).flatten())"
   ]
  },
  {
   "cell_type": "code",
   "execution_count": null,
   "metadata": {},
   "outputs": [],
   "source": []
  }
 ],
 "metadata": {
  "kernelspec": {
   "display_name": "py312",
   "language": "python",
   "name": "python3"
  },
  "language_info": {
   "codemirror_mode": {
    "name": "ipython",
    "version": 3
   },
   "file_extension": ".py",
   "mimetype": "text/x-python",
   "name": "python",
   "nbconvert_exporter": "python",
   "pygments_lexer": "ipython3",
   "version": "3.12.1"
  }
 },
 "nbformat": 4,
 "nbformat_minor": 2
}
