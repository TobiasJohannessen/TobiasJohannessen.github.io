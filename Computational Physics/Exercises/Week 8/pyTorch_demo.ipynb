{
 "cells": [
  {
   "cell_type": "code",
   "execution_count": 1,
   "metadata": {},
   "outputs": [],
   "source": [
    "import numpy as np\n"
   ]
  },
  {
   "cell_type": "code",
   "execution_count": 4,
   "metadata": {},
   "outputs": [
    {
     "name": "stdout",
     "output_type": "stream",
     "text": [
      "[[1 2]\n",
      " [3 4]]\n",
      "Shape: (2, 2)\n",
      "Element (0, 0): 1\n"
     ]
    }
   ],
   "source": [
    "# Numpy Arrays work as we expect\n",
    "\n",
    "\n",
    "A = np.array([[1, 2], [3, 4]])\n",
    "print(f'{A}')\n",
    "\n",
    "print(f'Shape: {A.shape}')\n",
    "\n",
    "print(f'Element (0, 0): {A[0, 0]}')\n"
   ]
  },
  {
   "cell_type": "code",
   "execution_count": 5,
   "metadata": {},
   "outputs": [],
   "source": [
    "import torch"
   ]
  },
  {
   "cell_type": "code",
   "execution_count": 11,
   "metadata": {},
   "outputs": [
    {
     "name": "stdout",
     "output_type": "stream",
     "text": [
      "tensor([[1, 2],\n",
      "        [3, 4]])\n",
      "Shape: torch.Size([2, 2])\n",
      "Element (0, 0): 1\n",
      "[:,0]: tensor([1, 3])\n"
     ]
    }
   ],
   "source": [
    "B = torch.tensor([[1, 2], [3, 4]])\n",
    "print(f'{B}')\n",
    "print(f'Shape: {B.shape}')\n",
    "print(f'Element (0, 0): {B[0, 0]}')\n",
    "print(f'[:,0]: {B[:, 0]}')\n",
    "\n"
   ]
  },
  {
   "cell_type": "code",
   "execution_count": 18,
   "metadata": {},
   "outputs": [
    {
     "name": "stdout",
     "output_type": "stream",
     "text": [
      "None None False\n"
     ]
    }
   ],
   "source": [
    "print(B.grad, B.grad_fn, B.requires_grad)"
   ]
  },
  {
   "cell_type": "code",
   "execution_count": 45,
   "metadata": {},
   "outputs": [
    {
     "name": "stdout",
     "output_type": "stream",
     "text": [
      "None None True\n",
      "tensor(20.)\n",
      "tensor(40.)\n"
     ]
    }
   ],
   "source": [
    "# We need to enable gradients\n",
    "\n",
    "x = torch.tensor(2., requires_grad=True)\n",
    "y = torch.tensor(4., requires_grad=True)\n",
    "z = (x + 2*y)**2\n",
    "\n",
    "print(C.grad, C.grad_fn, C.requires_grad)\n",
    "\n",
    "z.backward()\n",
    "print(x.grad)\n",
    "print(y.grad)"
   ]
  }
 ],
 "metadata": {
  "kernelspec": {
   "display_name": "py312",
   "language": "python",
   "name": "python3"
  },
  "language_info": {
   "codemirror_mode": {
    "name": "ipython",
    "version": 3
   },
   "file_extension": ".py",
   "mimetype": "text/x-python",
   "name": "python",
   "nbconvert_exporter": "python",
   "pygments_lexer": "ipython3",
   "version": "3.12.1"
  }
 },
 "nbformat": 4,
 "nbformat_minor": 2
}
