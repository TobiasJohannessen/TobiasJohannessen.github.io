{
 "cells": [
  {
   "cell_type": "code",
   "execution_count": 10,
   "metadata": {},
   "outputs": [],
   "source": [
    "import numpy as np\n",
    "\n",
    "class LazyCalculation():\n",
    "    def __init__(self,g,h):\n",
    "        self._g = g\n",
    "        self._h = h\n",
    "        self.average_calculated = False\n",
    "        \n",
    "    def __str__(self):\n",
    "        return 'g={}, h={}, average={}'.format(self._g,self._h,self.average)\n",
    "    \n",
    "    @property\n",
    "    def g(self):\n",
    "        return self._g\n",
    "    \n",
    "    @property\n",
    "    def h(self):\n",
    "        return self._h\n",
    "    \n",
    "    @g.setter\n",
    "    def g(self,new_g):\n",
    "        print('... changing g')\n",
    "        self._g = new_g\n",
    "        self.average_calculated = False        \n",
    "        \n",
    "    @h.setter\n",
    "    def h(self,new_h):\n",
    "        print('... changing h')\n",
    "        self._h = new_h\n",
    "        self.average_calculated = False\n",
    "    \n",
    "    @property\n",
    "    def average(self):\n",
    "        if not self.average_calculated:      \n",
    "            print('... calculating')\n",
    "            self._average = (self._g + self._h) / 2\n",
    "            self.average_calculated = True\n",
    "        return self._average"
   ]
  },
  {
   "cell_type": "markdown",
   "metadata": {},
   "source": [
    "# Monte Carlo\n"
   ]
  },
  {
   "cell_type": "markdown",
   "metadata": {},
   "source": []
  }
 ],
 "metadata": {
  "kernelspec": {
   "display_name": "py312",
   "language": "python",
   "name": "python3"
  },
  "language_info": {
   "codemirror_mode": {
    "name": "ipython",
    "version": 3
   },
   "file_extension": ".py",
   "mimetype": "text/x-python",
   "name": "python",
   "nbconvert_exporter": "python",
   "pygments_lexer": "ipython3",
   "version": "3.12.1"
  }
 },
 "nbformat": 4,
 "nbformat_minor": 2
}
